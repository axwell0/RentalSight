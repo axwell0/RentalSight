{
 "cells": [
  {
   "cell_type": "code",
   "execution_count": 4,
   "id": "3c5e49ee",
   "metadata": {
    "ExecuteTime": {
     "end_time": "2024-01-15T21:17:05.863063900Z",
     "start_time": "2024-01-15T21:17:05.848050700Z"
    }
   },
   "outputs": [],
   "source": [
    "import pandas as pd\n",
    "import numpy"
   ]
  },
  {
   "cell_type": "code",
   "execution_count": 6,
   "outputs": [],
   "source": [
    "import pandas as pd\n",
    "\n",
    "\n",
    "def csv_to_json(csv_file_path, json_file_path):\n",
    "    # Read CSV file into a DataFrame\n",
    "    df = pd.read_csv(csv_file_path)\n",
    "    \n",
    "    # Convert DataFrame to JSON and save it to a file\n",
    "    df.to_json(json_file_path, orient='records', lines=True)\n",
    "\n",
    "# Example usage:\n",
    "csv_file_path = 'source_data/language.csv'\n",
    "json_file_path = 'language.json'\n",
    "csv_to_json(csv_file_path, json_file_path)"
   ],
   "metadata": {
    "collapsed": false,
    "ExecuteTime": {
     "end_time": "2024-01-15T22:07:57.592163300Z",
     "start_time": "2024-01-15T22:07:57.582168Z"
    }
   },
   "id": "cf66a30583fd1a81"
  },
  {
   "cell_type": "code",
   "execution_count": null,
   "outputs": [],
   "source": [
    "import "
   ],
   "metadata": {
    "collapsed": false
   },
   "id": "4da7316b807d41e5"
  }
 ],
 "metadata": {
  "kernelspec": {
   "display_name": "Python 3 (ipykernel)",
   "language": "python",
   "name": "python3"
  },
  "language_info": {
   "codemirror_mode": {
    "name": "ipython",
    "version": 3
   },
   "file_extension": ".py",
   "mimetype": "text/x-python",
   "name": "python",
   "nbconvert_exporter": "python",
   "pygments_lexer": "ipython3",
   "version": "3.11.5"
  }
 },
 "nbformat": 4,
 "nbformat_minor": 5
}
